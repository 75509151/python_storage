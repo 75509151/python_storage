{
 "cells": [
  {
   "cell_type": "markdown",
   "metadata": {},
   "source": [
    "# 安装\n",
    "```\n",
    "pip install mako\n",
    "```"
   ]
  },
  {
   "cell_type": "markdown",
   "metadata": {},
   "source": [
    "# hello World"
   ]
  },
  {
   "cell_type": "code",
   "execution_count": 6,
   "metadata": {},
   "outputs": [
    {
     "name": "stdout",
     "output_type": "stream",
     "text": [
      "hello world\n"
     ]
    }
   ],
   "source": [
    "from mako.template import Template\n",
    "\n",
    "templ = Template(\"hello world\")\n",
    "print  templ.render()\n"
   ]
  },
  {
   "cell_type": "code",
   "execution_count": 33,
   "metadata": {},
   "outputs": [
    {
     "name": "stdout",
     "output_type": "stream",
     "text": [
      "hello world\n"
     ]
    }
   ],
   "source": [
    "from mako.template import Template\n",
    "\n",
    "print Template(\"hello ${data}\").render(data=\"world\")"
   ]
  },
  {
   "cell_type": "markdown",
   "metadata": {},
   "source": [
    "# 基础用法\n",
    "\n",
    "从文件"
   ]
  },
  {
   "cell_type": "code",
   "execution_count": null,
   "metadata": {},
   "outputs": [],
   "source": [
    "from mako.template import Template\n",
    "\n",
    "mytemplate = Template(filename='/docs/mytmpl.txt')\n",
    "print(mytemplate.render())"
   ]
  },
  {
   "cell_type": "code",
   "execution_count": null,
   "metadata": {},
   "outputs": [],
   "source": []
  },
  {
   "cell_type": "code",
   "execution_count": null,
   "metadata": {},
   "outputs": [],
   "source": [
    "from mako.template import Template\n",
    "\n",
    "mytemplate = Template(filename='/docs/mytmpl.txt', module_directory='/tmp/mako_modules')\n",
    "print(mytemplate.render())"
   ]
  },
  {
   "cell_type": "markdown",
   "metadata": {},
   "source": [
    "# 语法\n",
    "\n",
    "## 表达式替换\n",
    "\n",
    "最简单表达式就是变量替换．其语法就是``${}``.\n",
    "```\n",
    "this is ${x}\n",
    "```\n",
    "以上代码中, x的字符串表示形式将被应用到模板的输出流中．x的值通常来源于提供给模板rendering函数作为参数的Context变量. 如果x的值为给指定的模板，并且也未指定为局部变量,则会作为一改特殊的UNDEFINED.\n",
    "\n",
    "``${}``中的内容会被python执行，所以各种表达式都是支持的.\n",
    "\n",
    "```\n",
    "${pow(x, 2) + pow(y, 2)}\n",
    "```\n",
    "在render到输出流之前，表达式的结果总是被估算为一个字符串.\n"
   ]
  },
  {
   "cell_type": "code",
   "execution_count": 38,
   "metadata": {},
   "outputs": [
    {
     "name": "stdout",
     "output_type": "stream",
     "text": [
      "hello world\n",
      "hello, jack!\n"
     ]
    }
   ],
   "source": [
    "from mako.template import Template\n",
    "from mako.runtime import Context\n",
    "from StringIO import StringIO\n",
    "\n",
    "print Template(\"hello ${data}\").render(data=\"world\")\n",
    "\n",
    "mytemplate = Template(\"hello, ${name}!\")\n",
    "buf = StringIO()\n",
    "ctx = Context(buf, name=\"jack\")\n",
    "mytemplate.render_context(ctx)\n",
    "print(buf.getvalue())\n"
   ]
  },
  {
   "cell_type": "markdown",
   "metadata": {},
   "source": [
    "## 表达式转义\n",
    "\n",
    "mako包含了一系列的转义机制，包括HTML, URI和XML转义，以及``trim``函数.转义的动作可以通过``|``运算符附加到表达式后面:\n",
    "```\n",
    "${\"this is some text\"|u}\n",
    "```\n",
    "[!过滤器](http://docs.makotemplates.org/en/latest/filtering.html)\n",
    "\n"
   ]
  },
  {
   "cell_type": "code",
   "execution_count": 41,
   "metadata": {},
   "outputs": [
    {
     "data": {
      "text/plain": [
       "u'&lt;tag&gt;some value&lt;/tag&gt;'"
      ]
     },
     "execution_count": 41,
     "metadata": {},
     "output_type": "execute_result"
    }
   ],
   "source": [
    "from mako.template import Template\n",
    "\n",
    "mytemplate = Template('${\"this is some text\"|u}')\n",
    "mytemplate.render()\n",
    "\n",
    "mytemplate = Template('${\" <tag>some value</tag> \" | h,trim}')\n",
    "mytemplate.render()"
   ]
  },
  {
   "cell_type": "markdown",
   "metadata": {},
   "source": [
    "## 控制结构\n",
    "控制结构包括 ``if/eslse  while for try/except``等.\n",
    "在mako中，控制语句用``%``后附加常规的``python``控制结构写法,并用``end<name>``结束语句.\n",
    "其中``\"<name>\"``是该表达式的关键字.\n",
    "\n",
    "\n",
    "``%``可以出现在一行的任何位置，只要其前面没有其他的文本．缩进是无所谓的.python的所有的\"冒号\"表达式在这里都是"
   ]
  },
  {
   "cell_type": "code",
   "execution_count": 57,
   "metadata": {},
   "outputs": [
    {
     "name": "stdout",
     "output_type": "stream",
     "text": [
      "% if 40>=5:\n",
      "    this is  a if \n",
      " % endif\n"
     ]
    },
    {
     "data": {
      "text/plain": [
       "u'    this is  a if \\n'"
      ]
     },
     "execution_count": 57,
     "metadata": {},
     "output_type": "execute_result"
    }
   ],
   "source": [
    "from mako.template import Template\n",
    "\n",
    "py = \"% if 40>=5:\\n\"\\\n",
    "\"    this is  a if \\n \"\\\n",
    "\"% endif\"\n",
    "print py\n",
    "mytemplate = Template(py)\n",
    "mytemplate.render()\n"
   ]
  },
  {
   "cell_type": "markdown",
   "metadata": {},
   "source": [
    "## 注释\n",
    "\n",
    "注释有两种.\n",
    "单行注释``##``\n",
    "多行注释``<%doc> 文本 </%doc>``"
   ]
  },
  {
   "cell_type": "code",
   "execution_count": 76,
   "metadata": {},
   "outputs": [
    {
     "data": {
      "text/plain": [
       "u'    this is  signel \\n'"
      ]
     },
     "execution_count": 76,
     "metadata": {},
     "output_type": "execute_result"
    }
   ],
   "source": [
    "from mako.template import Template\n",
    "\n",
    "py1 = \"## this a if \\n\" \\\n",
    "\"% if 40>=5:\\n\"\\\n",
    "\"    this is  signel \\n \"\\\n",
    "\"% endif\"\n",
    "\n",
    "a = Template(py1)\n",
    "a.render()"
   ]
  },
  {
   "cell_type": "code",
   "execution_count": 77,
   "metadata": {},
   "outputs": [
    {
     "data": {
      "text/plain": [
       "u'\\n    this is  a multi \\n'"
      ]
     },
     "execution_count": 77,
     "metadata": {},
     "output_type": "execute_result"
    }
   ],
   "source": [
    "from mako.template import Template\n",
    "py = \"<%doc>\\n\" \\\n",
    "        \"this a if \\n\" \\\n",
    "    \"</%doc>\\n\" \\\n",
    "\"% if 60>=5:\\n\"\\\n",
    "\"    this is  a multi \\n \"\\\n",
    "\"% endif\"\n",
    "m = Template(py)\n",
    "m.render()"
   ]
  },
  {
   "cell_type": "markdown",
   "metadata": {},
   "source": [
    "## 模块级的语句块\n",
    "``<% %>``的一个变体是<%! %>,代表模块级别的代码块．其中的代码会在模块级别执行，而不在模块的rendering函数中.所以，这段代码不能访问模板的context, 仅在模块加载到内存时被执行．\n",
    "可以使用 ``<%! %>``来定义模板的导入语句.\n",
    "\n",
    "在模板中，可以在任意位置,定义任意数量的<%! %>语句块．他们在编译产生的模块文件中出现的次序和定义时相同．"
   ]
  },
  {
   "cell_type": "code",
   "execution_count": null,
   "metadata": {},
   "outputs": [],
   "source": [
    "<%!\n",
    "    import mylib\n",
    "    import re\n",
    "\n",
    "    def filter(text):\n",
    "        return re.sub(r'^@', '', text)\n",
    "%>"
   ]
  },
  {
   "cell_type": "markdown",
   "metadata": {},
   "source": [
    "## 标签\n",
    "\n",
    "Mako 还提供了标签。所有标签的语法都一样，类似于 XML 标签，不同之处在于其标签名称必须以 ``% ``开头。标签的关闭可以用反斜杠的内联形式，或者独立的关闭标签：\n",
    "\n",
    "```\n",
    "<%include file=\"foo.txt\"/>\n",
    "\n",
    "<%def name=\"foo\" buffered=\"True\">\n",
    "    this is a def\n",
    "</%def>\n",
    "\n",
    "```\n",
    "\n",
    "每种标签都定义了一系列特定的属性。有些属性是必须的。并且，很多属性支持估算操作``(evaluation)``，也就是说你可以在属性文本中嵌入一个表达式（用 ``${} ``语法）。"
   ]
  },
  {
   "cell_type": "code",
   "execution_count": null,
   "metadata": {},
   "outputs": [],
   "source": []
  }
 ],
 "metadata": {
  "kernelspec": {
   "display_name": "Python 2",
   "language": "python",
   "name": "python2"
  },
  "language_info": {
   "codemirror_mode": {
    "name": "ipython",
    "version": 2
   },
   "file_extension": ".py",
   "mimetype": "text/x-python",
   "name": "python",
   "nbconvert_exporter": "python",
   "pygments_lexer": "ipython2",
   "version": "2.7.12"
  }
 },
 "nbformat": 4,
 "nbformat_minor": 2
}
