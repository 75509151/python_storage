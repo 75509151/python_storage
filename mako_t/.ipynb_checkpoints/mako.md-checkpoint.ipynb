{
 "cells": [
  {
   "cell_type": "markdown",
   "metadata": {},
   "source": [
    "# 安装\n",
    "```\n",
    "pip install mako\n",
    "```"
   ]
  },
  {
   "cell_type": "markdown",
   "metadata": {},
   "source": [
    "# hello World"
   ]
  },
  {
   "cell_type": "code",
   "execution_count": 6,
   "metadata": {},
   "outputs": [
    {
     "name": "stdout",
     "output_type": "stream",
     "text": [
      "hello world\n"
     ]
    }
   ],
   "source": [
    "from mako.template import Template\n",
    "\n",
    "templ = Template(\"hello world\")\n",
    "print  templ.render()\n"
   ]
  },
  {
   "cell_type": "code",
   "execution_count": 33,
   "metadata": {},
   "outputs": [
    {
     "name": "stdout",
     "output_type": "stream",
     "text": [
      "hello world\n"
     ]
    }
   ],
   "source": [
    "from mako.template import Template\n",
    "\n",
    "print Template(\"hello ${data}\").render(data=\"world\")"
   ]
  },
  {
   "cell_type": "markdown",
   "metadata": {},
   "source": [
    "# 基础用法\n",
    "\n",
    "从文件"
   ]
  },
  {
   "cell_type": "code",
   "execution_count": null,
   "metadata": {},
   "outputs": [],
   "source": [
    "from mako.template import Template\n",
    "\n",
    "mytemplate = Template(filename='/docs/mytmpl.txt')\n",
    "print(mytemplate.render())"
   ]
  },
  {
   "cell_type": "code",
   "execution_count": null,
   "metadata": {},
   "outputs": [],
   "source": []
  },
  {
   "cell_type": "code",
   "execution_count": null,
   "metadata": {},
   "outputs": [],
   "source": [
    "from mako.template import Template\n",
    "\n",
    "mytemplate = Template(filename='/docs/mytmpl.txt', module_directory='/tmp/mako_modules')\n",
    "print(mytemplate.render())"
   ]
  },
  {
   "cell_type": "markdown",
   "metadata": {},
   "source": [
    "# 语法\n",
    "\n",
    "## 表达式替换\n",
    "\n",
    "最简单表达式就是变量替换．其语法就是``${}``.\n",
    "```\n",
    "this is ${x}\n",
    "```\n",
    "以上代码中, x的字符串表示形式将被应用到模板的输出流中．x的值通常来源于提供给模板rendering函数作为参数的Context变量. 如果x的值为给指定的模板，并且也未指定为局部变量,则会作为一改特殊的UNDEFINED.\n",
    "\n",
    "``${}``中的内容会被python执行，所以各种表达式都是支持的.\n",
    "\n",
    "```\n",
    "${pow(x, 2) + pow(y, 2)}\n",
    "```\n",
    "在render到输出流之前，表达式的结果总是被估算为一个字符串.\n"
   ]
  },
  {
   "cell_type": "code",
   "execution_count": 38,
   "metadata": {},
   "outputs": [
    {
     "name": "stdout",
     "output_type": "stream",
     "text": [
      "hello world\n",
      "hello, jack!\n"
     ]
    }
   ],
   "source": [
    "from mako.template import Template\n",
    "from mako.runtime import Context\n",
    "from StringIO import StringIO\n",
    "\n",
    "print Template(\"hello ${data}\").render(data=\"world\")\n",
    "\n",
    "mytemplate = Template(\"hello, ${name}!\")\n",
    "buf = StringIO()\n",
    "ctx = Context(buf, name=\"jack\")\n",
    "mytemplate.render_context(ctx)\n",
    "print(buf.getvalue())\n"
   ]
  },
  {
   "cell_type": "markdown",
   "metadata": {},
   "source": [
    "## 表达式转义\n",
    "\n",
    "mako包含了一系列的转义机制，包括HTML, URI和XML转义，以及``trim``函数.转义的动作可以通过``|``运算符附加到表达式后面:\n",
    "```\n",
    "${\"this is some text\"|u}\n",
    "```\n",
    "[!过滤器](http://docs.makotemplates.org/en/latest/filtering.html)\n",
    "\n"
   ]
  },
  {
   "cell_type": "code",
   "execution_count": 41,
   "metadata": {},
   "outputs": [
    {
     "data": {
      "text/plain": [
       "u'&lt;tag&gt;some value&lt;/tag&gt;'"
      ]
     },
     "execution_count": 41,
     "metadata": {},
     "output_type": "execute_result"
    }
   ],
   "source": [
    "from mako.template import Template\n",
    "\n",
    "mytemplate = Template('${\"this is some text\"|u}')\n",
    "mytemplate.render()\n",
    "\n",
    "mytemplate = Template('${\" <tag>some value</tag> \" | h,trim}')\n",
    "mytemplate.render()"
   ]
  },
  {
   "cell_type": "markdown",
   "metadata": {},
   "source": [
    "## 控制结构\n",
    "控制结构包括 ``if/eslse  while for try/except``等.\n",
    "在mako中，控制语句用``%``后附加常规的``python``控制结构写法,并用``end<name>``结束语句.\n",
    "其中``\"<name>\"``是该表达式的关键字.\n",
    "\n",
    "\n",
    "``%``可以出现在一行的任何位置，只要其前面没有其他的文本．缩进是无所谓的.python的所有的\"冒号\"表达式在这里都是"
   ]
  },
  {
   "cell_type": "code",
   "execution_count": 57,
   "metadata": {},
   "outputs": [
    {
     "name": "stdout",
     "output_type": "stream",
     "text": [
      "% if 40>=5:\n",
      "    this is  a if \n",
      " % endif\n"
     ]
    },
    {
     "data": {
      "text/plain": [
       "u'    this is  a if \\n'"
      ]
     },
     "execution_count": 57,
     "metadata": {},
     "output_type": "execute_result"
    }
   ],
   "source": [
    "from mako.template import Template\n",
    "\n",
    "py = \"% if 40>=5:\\n\"\\\n",
    "\"    this is  a if \\n \"\\\n",
    "\"% endif\"\n",
    "print py\n",
    "mytemplate = Template(py)\n",
    "mytemplate.render()\n"
   ]
  },
  {
   "cell_type": "markdown",
   "metadata": {},
   "source": [
    "## 注释\n",
    "\n",
    "注释有两种.\n",
    "单行注释``##``\n",
    "多行注释``<%doc> 文本 </%doc>``"
   ]
  },
  {
   "cell_type": "code",
   "execution_count": 76,
   "metadata": {},
   "outputs": [
    {
     "data": {
      "text/plain": [
       "u'    this is  signel \\n'"
      ]
     },
     "execution_count": 76,
     "metadata": {},
     "output_type": "execute_result"
    }
   ],
   "source": [
    "from mako.template import Template\n",
    "\n",
    "py1 = \"## this a if \\n\" \\\n",
    "\"% if 40>=5:\\n\"\\\n",
    "\"    this is  signel \\n \"\\\n",
    "\"% endif\"\n",
    "\n",
    "a = Template(py1)\n",
    "a.render()"
   ]
  },
  {
   "cell_type": "code",
   "execution_count": 77,
   "metadata": {},
   "outputs": [
    {
     "data": {
      "text/plain": [
       "u'\\n    this is  a multi \\n'"
      ]
     },
     "execution_count": 77,
     "metadata": {},
     "output_type": "execute_result"
    }
   ],
   "source": [
    "from mako.template import Template\n",
    "py = \"<%doc>\\n\" \\\n",
    "        \"this a if \\n\" \\\n",
    "    \"</%doc>\\n\" \\\n",
    "\"% if 60>=5:\\n\"\\\n",
    "\"    this is  a multi \\n \"\\\n",
    "\"% endif\"\n",
    "m = Template(py)\n",
    "m.render()"
   ]
  },
  {
   "cell_type": "markdown",
   "metadata": {},
   "source": [
    "## 模块级的语句块\n",
    "``<% %>``的一个变体是<%! %>,代表模块级别的代码块．其中的代码会在模块级别执行，而不在模块的rendering函数中.所以，这段代码不能访问模板的context, 仅在模块加载到内存时被执行．\n",
    "可以使用 ``<%! %>``来定义模板的导入语句.\n",
    "\n",
    "在模板中，可以在任意位置,定义任意数量的<%! %>语句块．他们在编译产生的模块文件中出现的次序和定义时相同．"
   ]
  },
  {
   "cell_type": "code",
   "execution_count": null,
   "metadata": {},
   "outputs": [],
   "source": [
    "<%!\n",
    "    import mylib\n",
    "    import re\n",
    "\n",
    "    def filter(text):\n",
    "        return re.sub(r'^@', '', text)\n",
    "%>"
   ]
  },
  {
   "cell_type": "markdown",
   "metadata": {},
   "source": [
    "## 标签\n",
    "\n",
    "Mako 还提供了标签。所有标签的语法都一样，类似于 XML 标签，不同之处在于其标签名称必须以 ``% ``开头。标签的关闭可以用反斜杠的内联形式，或者独立的关闭标签：\n",
    "\n",
    "```\n",
    "<%include file=\"foo.txt\"/>\n",
    "\n",
    "<%def name=\"foo\" buffered=\"True\">\n",
    "    this is a def\n",
    "</%def>\n",
    "\n",
    "```\n",
    "\n",
    "每种标签都定义了一系列特定的属性。有些属性是必须的。并且，很多属性支持估算操作``(evaluation)``，也就是说你可以在属性文本中嵌入一个表达式（用 ``${} ``语法）。\n",
    "\n",
    "```\n",
    "<%include file=\"/foo/bar/${myfile}.txt\"/>\n",
    "```\n",
    "\n",
    "属性是否支持运算时的估算，取决于标签的类型.\n"
   ]
  },
  {
   "cell_type": "markdown",
   "metadata": {},
   "source": [
    "### ``<%page>``标签\n",
    "该标签定义了模版的一些通用特性，包括缓存参数和模版调用的参数可选列表。\n",
    "```\n",
    "<%page args=\"x, y, z='default'\"/>\n",
    "```\n",
    "也可以定义缓存特性\n",
    "```\n",
    "<%page cached=\"True\" cache_type=\"memory\"/>\n",
    "```\n",
    "\n",
    "目前每个模版只有一个``<%page>``标签生效。以后会改进。请确保每个模版中只用了一个。\n",
    "\n",
    " ```<%page> 的用途参考 The body() Method 和 Caching``` "
   ]
  },
  {
   "cell_type": "markdown",
   "metadata": {},
   "source": [
    "### ``<%include>``标签\n",
    "和其他模版语言类似的标签，可以接受一个文件参数，调用那个文件的渲染效果：\n",
    "```\n",
    "<%include file=\"header.html\"/>\n",
    "    hello world\n",
    "<%include file=\"footer.html\"/>\n",
    "```\n",
    "\n",
    "还可以接受``<%page>``标签的参数，应用到导入的模版上：\n",
    "\n",
    "```\n",
    "\n",
    "<%includeinclude  file=file=\"toolbar.html\"\"toolbar.html\"  args=args=\"current_section='members', username='ed'\"\"current_section= />\n",
    "```\n"
   ]
  },
  {
   "cell_type": "markdown",
   "metadata": {},
   "source": [
    "### ``<%def>``\n",
    "定义了一个Python函数，函数可以在模版的其他位置调用。基本思想很简单。\n",
    "``<%def>``标签比python的def强大的多，因为Mako提供了很多额外的功能，比如能将函数作为模版的\"方法\"，自动传递当前的Context,使用 缓冲/过滤/缓存标志，作为参数传递给其他的函数调用。 细节见 ``def and block``"
   ]
  },
  {
   "cell_type": "code",
   "execution_count": null,
   "metadata": {},
   "outputs": [],
   "source": [
    "<%def name=\"myfunc(x)\">\n",
    "    this is myfunc, x is ${x}\n",
    "</%def>\n",
    "\n",
    "${myfunc(7)}"
   ]
  },
  {
   "cell_type": "markdown",
   "metadata": {},
   "source": [
    "### ``<%block>``\n",
    "和``<%def>``类似，但是会在根作用域立即执行，而且可以时匿名的：\n",
    "```\n",
    "<%block filter=\"h\">\n",
    "    some <html> stuff.\n",
    "</%block>\n",
    "```\n",
    "借鉴了Jinjia2的块，有名字的块实现了一种很方便的继承方法：\n",
    "\n",
    "```\n",
    "<html>\n",
    "    <body>\n",
    "    <%block name=\"header\">\n",
    "        <h2><%block name=\"title\"/></h2>\n",
    "    </%block>\n",
    "    ${self.body()}\n",
    "    </body>\n",
    "</html>\n",
    "```\n",
    "\n",
    "参考``Using Blocks``和``inheritance``\n"
   ]
  },
  {
   "cell_type": "markdown",
   "metadata": {},
   "source": [
    "### ``<%namespace>``\n",
    "Mako中的namespace和python中的import 语句等价，通过它可以访问其他模版的所有的渲染函数和metedata,python模块，还有本地定义的函数\"包\"。\n",
    "\n",
    "```\n",
    "<%namespace file=\"functions.html\" import=\"*\"/>\n",
    "\n",
    "```\n",
    "\n",
    "``%namespace`` 生成的底层对象是一个 ``mako.runtime.Namespace`` 实例。它是模板中的一个核心结构，用来引用模板的特定信息，比如当前的URI、继承结构和其他一些东西。名字空间见 Namespaces 。"
   ]
  },
  {
   "cell_type": "markdown",
   "metadata": {},
   "source": [
    "### ``<%inherit>``\n",
    "通过继承可以实现模版的继承链。它和其他模版语言的概念类似。\n",
    "\n",
    "```\n",
    "<%inherit file=\"base.html\"/>\n",
    "```\n",
    "\n",
    "当使用``<%inherit>``标签时，控制首先被传递到继承模版的顶层模版，由他来决定如何处理调用部分。Mako在这部分实现的非常灵活，包括动态的继承，内容封装，多态方法调用。\n",
    "参考 ``inheritance``\n"
   ]
  },
  {
   "cell_type": "markdown",
   "metadata": {},
   "source": [
    "### <%nsname:defname>\n",
    "可以通过 ``<%<namespacename>:<defname>>`` 来在一个名字空间中自定义一个标签。它的单标签和双标签形式分别对应行内表达式和 ``<%call>`` 标签.\n",
    "```\n",
    "<%mynamespace:somedef param=\"some value\">\n",
    "    this is the body\n",
    "</%mynamespace:somedef>\n",
    "```\n",
    "\n",
    "如何自定义标签，参考``Calling a Def with Embedded Content and/or Other Defs ``"
   ]
  },
  {
   "cell_type": "markdown",
   "metadata": {},
   "source": [
    "### <%call>\n",
    "\n",
    "``%call`` 标签是用户定义标签的传统形式，大致和上面的 ``<%namespacename:defname> ``等价。该标签也参考 ``Calling a Def with Embedded Content and/or Other Defs ``。\n"
   ]
  },
  {
   "cell_type": "markdown",
   "metadata": {},
   "source": [
    "### <%dco>\n",
    "多行备注\n",
    "```\n",
    "<%doc>\n",
    "    these are comments\n",
    "    more comments\n",
    "</%doc>\n",
    "\n",
    "```"
   ]
  },
  {
   "cell_type": "markdown",
   "metadata": {},
   "source": [
    "### <%text>\n",
    "该标签使Mako词法分析器跳过该部分的处理，返回整个内容。主要用于写Mako的文档：\n",
    "```\n",
    "<%text filter=\"h\">\n",
    "    heres some fake mako ${syntax}\n",
    "    <%def name=\"x()\">${x}</%def>\n",
    "</%text>\n",
    "```\n"
   ]
  },
  {
   "cell_type": "markdown",
   "metadata": {},
   "source": [
    "## 从模版提前返回\n",
    "有时你想在模板或 ``<%def> ``方法的中间停止处理，只用当前得到的结果。可以在Python代码块中使用 return 语句来实现。\n",
    "```\n",
    "% if not len(records):\n",
    "    No records found.\n",
    "    <% return %>\n",
    "% endif\n",
    "\n",
    "```\n",
    "或\n",
    "```\n",
    "<%\n",
    "    if not len(records):\n",
    "        return\n",
    "%>\n",
    "```"
   ]
  }
 ],
 "metadata": {
  "kernelspec": {
   "display_name": "Python 2",
   "language": "python",
   "name": "python2"
  },
  "language_info": {
   "codemirror_mode": {
    "name": "ipython",
    "version": 2
   },
   "file_extension": ".py",
   "mimetype": "text/x-python",
   "name": "python",
   "nbconvert_exporter": "python",
   "pygments_lexer": "ipython2",
   "version": "2.7.14"
  }
 },
 "nbformat": 4,
 "nbformat_minor": 2
}
