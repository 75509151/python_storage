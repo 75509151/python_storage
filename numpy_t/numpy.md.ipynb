{
 "cells": [
  {
   "cell_type": "code",
   "execution_count": null,
   "metadata": {},
   "outputs": [],
   "source": [
    "#体验\n",
    "numpy 操作简单"
   ]
  },
  {
   "cell_type": "code",
   "execution_count": 19,
   "metadata": {},
   "outputs": [
    {
     "name": "stdout",
     "output_type": "stream",
     "text": [
      "[[ 0.4   -0.1  ]\n",
      " [-0.05   0.075]]\n",
      "(2, 2)\n",
      "[[ 1.  0.]\n",
      " [ 0.  1.]]\n",
      "[[ 1.  0.]\n",
      " [ 0.  1.]]\n",
      "(3, 2)\n",
      "[[ 3  4  2]\n",
      " [16  3  8]]\n",
      "d [[[ 1  2]\n",
      "  [ 3  4]\n",
      "  [ 5  6]]\n",
      "\n",
      " [[ 7  8]\n",
      "  [ 9 10]\n",
      "  [11 12]]]\n",
      "(2, 3, 2)\n",
      "[[ 0]\n",
      " [10]\n",
      " [20]\n",
      " [30]\n",
      " [40]\n",
      " [50]]\n"
     ]
    }
   ],
   "source": [
    "import numpy as np\n",
    "a = np.array([\n",
    "    [3,  4],\n",
    "    [2, 16]\n",
    "])\n",
    "\n",
    "b = np.linalg.inv(a)\n",
    "\n",
    "print b\n",
    "print b.shape\n",
    "print np.dot(a,b)\n",
    "print np.dot(b,a)\n",
    "\n",
    "c = np.array([\n",
    "    [3,  4],\n",
    "    [2, 16],\n",
    "    [3, 8]\n",
    "])\n",
    "\n",
    "print c.shape\n",
    "\n",
    "c.shape = 2, 3\n",
    "print c\n",
    "\n",
    "d= np.array([[[ 1 , 2] ,[ 3  ,4]  ,[ 5  ,6]] , \n",
    "          [[ 7  ,8]  ,[ 9 ,10]  ,[11, 12]]]  )\n",
    "print \"d\", d\n",
    "print d.shape\n",
    "\n",
    "e = np.arange(0, 60, 10).reshape(-1, 1) + np.arange(0, 6)\n",
    "print e"
   ]
  },
  {
   "cell_type": "code",
   "execution_count": 11,
   "metadata": {},
   "outputs": [
    {
     "name": "stdout",
     "output_type": "stream",
     "text": [
      "[0 1 2 3 4 5 6 7 8 9]\n"
     ]
    }
   ],
   "source": [
    "a = np.arange(10)\n",
    "print a"
   ]
  },
  {
   "cell_type": "code",
   "execution_count": 30,
   "metadata": {},
   "outputs": [
    {
     "ename": "ImportError",
     "evalue": "cannot import name PDFDocument",
     "output_type": "error",
     "traceback": [
      "\u001b[0;31m---------------------------------------------------------------------------\u001b[0m",
      "\u001b[0;31mImportError\u001b[0m                               Traceback (most recent call last)",
      "\u001b[0;32m<ipython-input-30-4feeeccabe8f>\u001b[0m in \u001b[0;36m<module>\u001b[0;34m()\u001b[0m\n\u001b[1;32m     12\u001b[0m \u001b[0;32mfrom\u001b[0m \u001b[0mpdfminer\u001b[0m\u001b[0;34m.\u001b[0m\u001b[0mpdfinterp\u001b[0m \u001b[0;32mimport\u001b[0m \u001b[0mPDFResourceManager\u001b[0m\u001b[0;34m,\u001b[0m \u001b[0mPDFPageInterpreter\u001b[0m\u001b[0;34m\u001b[0m\u001b[0m\n\u001b[1;32m     13\u001b[0m \u001b[0;31m# from pdfminer.pdfinterp import PDFTextExtractionNotAllowed\u001b[0m\u001b[0;34m\u001b[0m\u001b[0;34m\u001b[0m\u001b[0m\n\u001b[0;32m---> 14\u001b[0;31m \u001b[0;32mfrom\u001b[0m \u001b[0mpdfminer\u001b[0m\u001b[0;34m.\u001b[0m\u001b[0mpdfparser\u001b[0m \u001b[0;32mimport\u001b[0m \u001b[0mPDFParser\u001b[0m\u001b[0;34m,\u001b[0m \u001b[0mPDFDocument\u001b[0m\u001b[0;34m\u001b[0m\u001b[0m\n\u001b[0m\u001b[1;32m     15\u001b[0m \u001b[0;34m\u001b[0m\u001b[0m\n\u001b[1;32m     16\u001b[0m \u001b[0;34m''' 解析pdf 文本，保存到txt文件中 '''\u001b[0m\u001b[0;34m\u001b[0m\u001b[0m\n",
      "\u001b[0;31mImportError\u001b[0m: cannot import name PDFDocument"
     ]
    }
   ],
   "source": [
    "# -*- coding: utf-8 -*-\n",
    "\n",
    "\"\"\" @Time : 2017/8/17 18:07 @Author : typhoon @Site : @File : test_has_package_python3.py @Software: PyCharm @desc : parse pdf \"\"\"\n",
    "\n",
    "import importlib\n",
    "import sys\n",
    "import random\n",
    "\n",
    "\n",
    "from pdfminer.converter import PDFPageAggregator\n",
    "from pdfminer.layout import LTTextBoxHorizontal, LAParams\n",
    "from pdfminer.pdfinterp import PDFResourceManager, PDFPageInterpreter\n",
    "# from pdfminer.pdfinterp import PDFTextExtractionNotAllowed\n",
    "from pdfminer.pdfparser import PDFParser, PDFDocument\n",
    "\n",
    "''' 解析pdf 文本，保存到txt文件中 '''\n",
    "importlib.reload(sys)\n",
    "\n",
    "\n",
    "\n",
    "def parse(_path):\n",
    "    fp = open(_path, 'rb') # rb以二进制读模式打开本地pdf文件\n",
    "\n",
    "\n",
    "    # 用文件对象来创建一个pdf文档分析器\n",
    "    praser_pdf = PDFParser(fp)\n",
    "\n",
    "    # 创建一个PDF文档\n",
    "    doc = PDFDocument()\n",
    "\n",
    "    # 连接分析器 与文档对象\n",
    "    praser_pdf.set_document(doc)\n",
    "    doc.set_parser(praser_pdf)\n",
    "\n",
    "    # 提供初始化密码doc.initialize(\"123456\")\n",
    "    # 如果没有密码 就创建一个空的字符串\n",
    "    doc.initialize()\n",
    "\n",
    "    # 检测文档是否提供txt转换，不提供就忽略\n",
    "    if not doc.is_extractable:\n",
    "        raise PDFTextExtractionNotAllowed\n",
    "    else:\n",
    "        # 创建PDf资源管理器 来管理共享资源\n",
    "        rsrcmgr = PDFResourceManager()\n",
    "\n",
    "        # 创建一个PDF参数分析器\n",
    "        laparams = LAParams()\n",
    "\n",
    "        # 创建聚合器\n",
    "        device = PDFPageAggregator(rsrcmgr, laparams=laparams)\n",
    "\n",
    "        # 创建一个PDF页面解释器对象\n",
    "        interpreter = PDFPageInterpreter(rsrcmgr, device)\n",
    "\n",
    "        # 循环遍历列表，每次处理一页的内容\n",
    "        # doc.get_pages() 获取page列表\n",
    "        for page in doc.get_pages():\n",
    "            # 使用页面解释器来读取\n",
    "            interpreter.process_page(page)\n",
    "\n",
    "            # 使用聚合器获取内容\n",
    "            layout = device.get_result()\n",
    "\n",
    "            # 这里layout是一个LTPage对象 里面存放着 这个page解析出的各种对象 一般包括LTTextBox, LTFigure, LTImage, LTTextBoxHorizontal 等等 想要获取文本就获得对象的text属性，\n",
    "            for out in layout:\n",
    "                # 判断是否含有get_text()方法，图片之类的就没有\n",
    "                # if hasattr(out,\"get_text\"):\n",
    "                if isinstance(out, LTTextBoxHorizontal):\n",
    "\n",
    "                    results = out.get_text()\n",
    "                    print(\"results: \" + results)\n",
    "if __name__ == '__main__':\n",
    "    url = \"/home/mm/a.pdf\"\n",
    "    parse(url)"
   ]
  },
  {
   "cell_type": "code",
   "execution_count": null,
   "metadata": {},
   "outputs": [],
   "source": []
  }
 ],
 "metadata": {
  "kernelspec": {
   "display_name": "Python 2",
   "language": "python",
   "name": "python2"
  },
  "language_info": {
   "codemirror_mode": {
    "name": "ipython",
    "version": 2
   },
   "file_extension": ".py",
   "mimetype": "text/x-python",
   "name": "python",
   "nbconvert_exporter": "python",
   "pygments_lexer": "ipython2",
   "version": "2.7.12"
  }
 },
 "nbformat": 4,
 "nbformat_minor": 2
}
