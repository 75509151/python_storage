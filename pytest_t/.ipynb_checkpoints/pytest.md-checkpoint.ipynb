{
 "cells": [
  {
   "cell_type": "markdown",
   "metadata": {},
   "source": [
    "# pytest概述\n",
    "pytest是python的一种单元测试框架，与unittest测试框架类似，\n",
    "但是使用起来更简洁，效率更高。\n",
    "\n",
    "pytest的特点：\n",
    "* 简单的断言\n",
    "* 自动发现测试模块和测试函数\n",
    "* 良好的文档"
   ]
  }
 ],
 "metadata": {
  "kernelspec": {
   "display_name": "Python 2",
   "language": "python",
   "name": "python2"
  },
  "language_info": {
   "codemirror_mode": {
    "name": "ipython",
    "version": 2
   },
   "file_extension": ".py",
   "mimetype": "text/x-python",
   "name": "python",
   "nbconvert_exporter": "python",
   "pygments_lexer": "ipython2",
   "version": "2.7.14"
  }
 },
 "nbformat": 4,
 "nbformat_minor": 2
}
